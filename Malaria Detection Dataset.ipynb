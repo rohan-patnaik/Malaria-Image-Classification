{
 "cells": [
  {
   "cell_type": "code",
   "execution_count": 1,
   "id": "3af94364",
   "metadata": {},
   "outputs": [],
   "source": [
    "# Change the file directories and image paths accordingly when using in kaggle\n",
    "\n",
    "import tensorflow as tf\n",
    "from tensorflow.keras.layers import Input, Lambda, Dense, Flatten, Conv2D\n",
    "from tensorflow.keras.models import Model\n",
    "from tensorflow.keras.applications.vgg19 import VGG19\n",
    "from tensorflow.keras.applications.resnet50 import preprocess_input\n",
    "from tensorflow.keras.preprocessing.image import ImageDataGenerator, load_img\n",
    "from tensorflow.keras.models import Sequential\n",
    "import numpy as np\n",
    "import pandas as pd\n",
    "from glob import glob\n",
    "import matplotlib.pyplot as plt\n",
    "%matplotlib inline"
   ]
  },
  {
   "cell_type": "code",
   "execution_count": 2,
   "id": "9e8929f2",
   "metadata": {},
   "outputs": [],
   "source": [
    "# re-size all the images to this\n",
    "IMAGE_SIZE = [224, 224]"
   ]
  },
  {
   "cell_type": "code",
   "execution_count": 3,
   "id": "27cd9085",
   "metadata": {},
   "outputs": [],
   "source": [
    "# add preprocessing layer to the front of VGG\n",
    "vgg = VGG19(input_shape=IMAGE_SIZE + [3], weights='imagenet', include_top=False)"
   ]
  },
  {
   "cell_type": "code",
   "execution_count": 4,
   "id": "9c51389f",
   "metadata": {},
   "outputs": [],
   "source": [
    "for layer in vgg.layers:\n",
    "    layer.trainable = False"
   ]
  },
  {
   "cell_type": "code",
   "execution_count": 5,
   "id": "e34fdb23",
   "metadata": {},
   "outputs": [
    {
     "data": {
      "text/plain": [
       "['DS1/Dataset/Train\\\\Parasite', 'DS1/Dataset/Train\\\\Uninfected']"
      ]
     },
     "execution_count": 5,
     "metadata": {},
     "output_type": "execute_result"
    }
   ],
   "source": [
    " # useful for getting number of classes\n",
    "folders = glob('DS1/Dataset/Train/*')\n",
    "folders"
   ]
  },
  {
   "cell_type": "code",
   "execution_count": 6,
   "id": "7ad157ef",
   "metadata": {},
   "outputs": [],
   "source": [
    "# my layers - you can add more if you want\n",
    "x = Flatten()(vgg.output)\n",
    "# x = Dense(1000, activation='relu')(x)\n",
    "prediction = Dense(len(folders), activation='softmax')(x)"
   ]
  },
  {
   "cell_type": "code",
   "execution_count": 7,
   "id": "6a5ff239",
   "metadata": {},
   "outputs": [],
   "source": [
    "#Now we create the base model\n",
    "model = Model(inputs = vgg.input, outputs = prediction)"
   ]
  },
  {
   "cell_type": "code",
   "execution_count": 8,
   "id": "caa03d01",
   "metadata": {},
   "outputs": [
    {
     "name": "stdout",
     "output_type": "stream",
     "text": [
      "Model: \"model\"\n",
      "_________________________________________________________________\n",
      "Layer (type)                 Output Shape              Param #   \n",
      "=================================================================\n",
      "input_1 (InputLayer)         [(None, 224, 224, 3)]     0         \n",
      "_________________________________________________________________\n",
      "block1_conv1 (Conv2D)        (None, 224, 224, 64)      1792      \n",
      "_________________________________________________________________\n",
      "block1_conv2 (Conv2D)        (None, 224, 224, 64)      36928     \n",
      "_________________________________________________________________\n",
      "block1_pool (MaxPooling2D)   (None, 112, 112, 64)      0         \n",
      "_________________________________________________________________\n",
      "block2_conv1 (Conv2D)        (None, 112, 112, 128)     73856     \n",
      "_________________________________________________________________\n",
      "block2_conv2 (Conv2D)        (None, 112, 112, 128)     147584    \n",
      "_________________________________________________________________\n",
      "block2_pool (MaxPooling2D)   (None, 56, 56, 128)       0         \n",
      "_________________________________________________________________\n",
      "block3_conv1 (Conv2D)        (None, 56, 56, 256)       295168    \n",
      "_________________________________________________________________\n",
      "block3_conv2 (Conv2D)        (None, 56, 56, 256)       590080    \n",
      "_________________________________________________________________\n",
      "block3_conv3 (Conv2D)        (None, 56, 56, 256)       590080    \n",
      "_________________________________________________________________\n",
      "block3_conv4 (Conv2D)        (None, 56, 56, 256)       590080    \n",
      "_________________________________________________________________\n",
      "block3_pool (MaxPooling2D)   (None, 28, 28, 256)       0         \n",
      "_________________________________________________________________\n",
      "block4_conv1 (Conv2D)        (None, 28, 28, 512)       1180160   \n",
      "_________________________________________________________________\n",
      "block4_conv2 (Conv2D)        (None, 28, 28, 512)       2359808   \n",
      "_________________________________________________________________\n",
      "block4_conv3 (Conv2D)        (None, 28, 28, 512)       2359808   \n",
      "_________________________________________________________________\n",
      "block4_conv4 (Conv2D)        (None, 28, 28, 512)       2359808   \n",
      "_________________________________________________________________\n",
      "block4_pool (MaxPooling2D)   (None, 14, 14, 512)       0         \n",
      "_________________________________________________________________\n",
      "block5_conv1 (Conv2D)        (None, 14, 14, 512)       2359808   \n",
      "_________________________________________________________________\n",
      "block5_conv2 (Conv2D)        (None, 14, 14, 512)       2359808   \n",
      "_________________________________________________________________\n",
      "block5_conv3 (Conv2D)        (None, 14, 14, 512)       2359808   \n",
      "_________________________________________________________________\n",
      "block5_conv4 (Conv2D)        (None, 14, 14, 512)       2359808   \n",
      "_________________________________________________________________\n",
      "block5_pool (MaxPooling2D)   (None, 7, 7, 512)         0         \n",
      "_________________________________________________________________\n",
      "flatten (Flatten)            (None, 25088)             0         \n",
      "_________________________________________________________________\n",
      "dense (Dense)                (None, 2)                 50178     \n",
      "=================================================================\n",
      "Total params: 20,074,562\n",
      "Trainable params: 50,178\n",
      "Non-trainable params: 20,024,384\n",
      "_________________________________________________________________\n"
     ]
    }
   ],
   "source": [
    "model.summary()"
   ]
  },
  {
   "cell_type": "code",
   "execution_count": 9,
   "id": "43db86a1",
   "metadata": {},
   "outputs": [],
   "source": [
    "#Time to compile the model\n",
    "model.compile(loss = \"categorical_crossentropy\",\n",
    "             optimizer = \"adam\",\n",
    "             metrics = [\"accuracy\"]\n",
    ")"
   ]
  },
  {
   "cell_type": "code",
   "execution_count": 10,
   "id": "46f1c087",
   "metadata": {},
   "outputs": [],
   "source": [
    "# The below written code is if you want to create a model from scratch\n",
    "\n",
    "# from tensorflow.keras.layers import MaxPool2D\n",
    "\n",
    "# model=Sequential()\n",
    "# model.add(Conv2D(filters=16,kernel_size=2,padding=\"same\",activation=\"relu\",input_shape=(224,224,3)))\n",
    "# model.add(MaxPooling2D(pool_size=2))\n",
    "# model.add(Conv2D(filters=32,kernel_size=2,padding=\"same\",activation =\"relu\"))\n",
    "# model.add(MaxPooling2D(pool_size=2))\n",
    "# model.add(Conv2D(filters=64,kernel_size=2,padding=\"same\",activation=\"relu\"))\n",
    "# model.add(MaxPooling2D(pool_size=2))\n",
    "# model.add(Flatten())\n",
    "# model.add(Dense(500,activation=\"relu\"))\n",
    "# model.add(Dense(2,activation=\"softmax\"))\n",
    "# model.summary()"
   ]
  },
  {
   "cell_type": "code",
   "execution_count": 11,
   "id": "1b8a32d4",
   "metadata": {},
   "outputs": [],
   "source": [
    " #Use the Image Data Generator to import images from the dataset\n",
    "train_datagen = ImageDataGenerator(rescale=1./255,\n",
    "                                   shear_range=0.2,\n",
    "                                   zoom_range=0.2,\n",
    "                                   horizontal_flip=True)\n",
    "test_datagen = ImageDataGenerator(rescale=1./255)"
   ]
  },
  {
   "cell_type": "code",
   "execution_count": 12,
   "id": "4bd99eb4",
   "metadata": {},
   "outputs": [
    {
     "name": "stdout",
     "output_type": "stream",
     "text": [
      "Found 416 images belonging to 2 classes.\n",
      "Found 134 images belonging to 2 classes.\n"
     ]
    }
   ],
   "source": [
    "#Make sure you provide the same target size as initialised for the image\n",
    "\n",
    "training_set = train_datagen.flow_from_directory(\"DS1/Dataset/Train/\",\n",
    "                                                target_size=(224,224),\n",
    "                                                batch_size=2,\n",
    "                                                class_mode=\"categorical\")\n",
    "\n",
    "test_set = test_datagen.flow_from_directory(\"DS1/Dataset/Test/\",\n",
    "                                           target_size=(224,224),\n",
    "                                           batch_size=2,\n",
    "                                           class_mode=\"categorical\")"
   ]
  },
  {
   "cell_type": "code",
   "execution_count": 13,
   "id": "4315d20a",
   "metadata": {},
   "outputs": [
    {
     "name": "stdout",
     "output_type": "stream",
     "text": [
      "Epoch 1/2\n"
     ]
    },
    {
     "name": "stderr",
     "output_type": "stream",
     "text": [
      "C:\\Users\\rohan\\anaconda3\\lib\\site-packages\\tensorflow\\python\\keras\\engine\\training.py:1940: UserWarning: `Model.fit_generator` is deprecated and will be removed in a future version. Please use `Model.fit`, which supports generators.\n",
      "  warnings.warn('`Model.fit_generator` is deprecated and '\n"
     ]
    },
    {
     "name": "stdout",
     "output_type": "stream",
     "text": [
      "208/208 [==============================] - 43s 207ms/step - loss: 1.5696 - accuracy: 0.6178 - val_loss: 2.1308 - val_accuracy: 0.4627\n",
      "Epoch 2/2\n",
      "208/208 [==============================] - 42s 201ms/step - loss: 0.8235 - accuracy: 0.7596 - val_loss: 0.2913 - val_accuracy: 0.8582\n"
     ]
    }
   ],
   "source": [
    "#Now we fit the model\n",
    "hist = model.fit_generator(training_set,\n",
    "                 validation_data=test_set,\n",
    "                 epochs=2,\n",
    "                 steps_per_epoch=len(training_set),\n",
    "                 validation_steps=len(test_set)\n",
    ")"
   ]
  },
  {
   "cell_type": "code",
   "execution_count": 14,
   "id": "707b7785",
   "metadata": {},
   "outputs": [
    {
     "name": "stdout",
     "output_type": "stream",
     "text": [
      "Please install gpu version of tf\n"
     ]
    }
   ],
   "source": [
    "#The below code is to check if system gpu is being used or not to execute the model\n",
    "import tensorflow as tf\n",
    "\n",
    "if tf.test.gpu_device_name():\n",
    "    print(\"Default gpu device:\".format*(tf.test.gpu_device_name()))\n",
    "else:\n",
    "    print(\"Please install gpu version of tf\")"
   ]
  },
  {
   "cell_type": "code",
   "execution_count": 42,
   "id": "899eed03",
   "metadata": {},
   "outputs": [
    {
     "data": {
      "image/png": "[encoded data removed]",
      "text/plain": [
       "<Figure size 432x288 with 1 Axes>"
      ]
     },
     "metadata": {
      "needs_background": "light"
     },
     "output_type": "display_data"
    },
    {
     "data": {
      "image/png": "[encoded data removed]",
      "text/plain": [
       "<Figure size 432x288 with 1 Axes>"
      ]
     },
     "metadata": {
      "needs_background": "light"
     },
     "output_type": "display_data"
    },
    {
     "data": {
      "text/plain": [
       "<Figure size 432x288 with 0 Axes>"
      ]
     },
     "metadata": {},
     "output_type": "display_data"
    }
   ],
   "source": [
    "# loss\n",
    "plt.plot(hist.history['loss'], label='train loss')\n",
    "plt.plot(hist.history['val_loss'], label='val loss')\n",
    "plt.legend()\n",
    "plt.show()\n",
    "plt.savefig('LossVal_loss')\n",
    "\n",
    "# accuracies\n",
    "plt.plot(hist.history['accuracy'], label='train acc')\n",
    "plt.plot(hist.history['val_accuracy'], label='val acc')\n",
    "plt.legend()\n",
    "plt.show()\n",
    "plt.savefig('AccVal_acc')"
   ]
  },
  {
   "cell_type": "code",
   "execution_count": 17,
   "id": "df879fd6",
   "metadata": {},
   "outputs": [
    {
     "data": {
      "text/plain": [
       "{'loss': [1.5695650577545166, 0.8235195875167847],\n",
       " 'accuracy': [0.6177884340286255, 0.7596153616905212],\n",
       " 'val_loss': [2.1307926177978516, 0.2912573218345642],\n",
       " 'val_accuracy': [0.46268656849861145, 0.858208954334259]}"
      ]
     },
     "execution_count": 17,
     "metadata": {},
     "output_type": "execute_result"
    }
   ],
   "source": [
    "hist.history"
   ]
  },
  {
   "cell_type": "code",
   "execution_count": 18,
   "id": "a34d0393",
   "metadata": {},
   "outputs": [],
   "source": [
    "model.save('model_vgg19.h5')"
   ]
  },
  {
   "cell_type": "code",
   "execution_count": 19,
   "id": "cd0fb76a",
   "metadata": {},
   "outputs": [
    {
     "data": {
      "text/plain": [
       "array([[5.05625010e-01, 4.94374961e-01],\n",
       "       [9.99997973e-01, 2.03070363e-06],\n",
       "       [2.53562152e-01, 7.46437848e-01],\n",
       "       [2.35211760e-01, 7.64788210e-01],\n",
       "       [5.33914983e-01, 4.66085047e-01],\n",
       "       [5.40371314e-02, 9.45962906e-01],\n",
       "       [9.99798715e-01, 2.01283605e-04],\n",
       "       [9.99993563e-01, 6.39585414e-06],\n",
       "       [5.08360267e-01, 4.91639733e-01],\n",
       "       [9.71090376e-01, 2.89096367e-02],\n",
       "       [6.38537407e-01, 3.61462593e-01],\n",
       "       [6.81882262e-01, 3.18117678e-01],\n",
       "       [9.29061711e-01, 7.09382594e-02],\n",
       "       [2.76450396e-01, 7.23549664e-01],\n",
       "       [3.07103526e-02, 9.69289660e-01],\n",
       "       [2.13646948e-01, 7.86352992e-01],\n",
       "       [9.96611774e-01, 3.38825001e-03],\n",
       "       [9.99807417e-01, 1.92575710e-04],\n",
       "       [1.06816828e-01, 8.93183231e-01],\n",
       "       [6.87284350e-01, 3.12715650e-01],\n",
       "       [6.21384196e-02, 9.37861562e-01],\n",
       "       [8.80920351e-01, 1.19079672e-01],\n",
       "       [7.97156513e-01, 2.02843472e-01],\n",
       "       [1.90193206e-01, 8.09806824e-01],\n",
       "       [4.53356624e-01, 5.46643376e-01],\n",
       "       [9.99969363e-01, 3.05960348e-05],\n",
       "       [9.99994874e-01, 5.10662312e-06],\n",
       "       [9.99688745e-01, 3.11293552e-04],\n",
       "       [6.24287762e-02, 9.37571228e-01],\n",
       "       [7.96465278e-01, 2.03534782e-01],\n",
       "       [9.90396380e-01, 9.60360840e-03],\n",
       "       [6.10720515e-01, 3.89279455e-01],\n",
       "       [9.99192417e-01, 8.07572913e-04],\n",
       "       [2.02643618e-01, 7.97356427e-01],\n",
       "       [9.95694160e-01, 4.30576969e-03],\n",
       "       [9.94062960e-01, 5.93706314e-03],\n",
       "       [9.86460209e-01, 1.35398544e-02],\n",
       "       [1.22655556e-01, 8.77344489e-01],\n",
       "       [1.06734671e-02, 9.89326477e-01],\n",
       "       [9.95750666e-01, 4.24935436e-03],\n",
       "       [2.70738173e-02, 9.72926140e-01],\n",
       "       [4.96542156e-01, 5.03457785e-01],\n",
       "       [2.16444194e-01, 7.83555806e-01],\n",
       "       [1.38158277e-01, 8.61841738e-01],\n",
       "       [9.99994993e-01, 5.02150669e-06],\n",
       "       [9.99489307e-01, 5.10719721e-04],\n",
       "       [5.38808644e-01, 4.61191386e-01],\n",
       "       [1.00000000e+00, 5.68005589e-08],\n",
       "       [6.98389828e-01, 3.01610202e-01],\n",
       "       [1.02194540e-01, 8.97805512e-01],\n",
       "       [6.30134419e-02, 9.36986506e-01],\n",
       "       [9.64736342e-01, 3.52637172e-02],\n",
       "       [6.13046214e-02, 9.38695371e-01],\n",
       "       [6.57379389e-01, 3.42620611e-01],\n",
       "       [9.99995351e-01, 4.68640701e-06],\n",
       "       [2.17622280e-01, 7.82377720e-01],\n",
       "       [7.77048916e-02, 9.22295094e-01],\n",
       "       [9.91045415e-01, 8.95450078e-03],\n",
       "       [9.12082613e-01, 8.79174247e-02],\n",
       "       [9.99306798e-01, 6.93157723e-04],\n",
       "       [9.99701321e-01, 2.98589759e-04],\n",
       "       [9.99101400e-01, 8.98613012e-04],\n",
       "       [9.93199646e-01, 6.80038799e-03],\n",
       "       [9.99724567e-01, 2.75425351e-04],\n",
       "       [9.95910287e-01, 4.08973219e-03],\n",
       "       [9.99004304e-01, 9.95688955e-04],\n",
       "       [9.99996662e-01, 3.37772826e-06],\n",
       "       [9.98859644e-01, 1.14034570e-03],\n",
       "       [9.06137705e-01, 9.38622430e-02],\n",
       "       [1.13934249e-01, 8.86065781e-01],\n",
       "       [9.44671810e-01, 5.53282090e-02],\n",
       "       [9.67349589e-01, 3.26504447e-02],\n",
       "       [9.99999881e-01, 7.03185492e-08],\n",
       "       [1.49710998e-01, 8.50289047e-01],\n",
       "       [9.99922276e-01, 7.77545356e-05],\n",
       "       [2.01912537e-01, 7.98087478e-01],\n",
       "       [6.00960493e-01, 3.99039477e-01],\n",
       "       [9.99996424e-01, 3.53839027e-06],\n",
       "       [9.43180740e-01, 5.68192415e-02],\n",
       "       [9.99508977e-01, 4.91002458e-04],\n",
       "       [9.99987364e-01, 1.26708292e-05],\n",
       "       [3.50693315e-01, 6.49306715e-01],\n",
       "       [8.28949571e-01, 1.71050414e-01],\n",
       "       [5.96466064e-01, 4.03533965e-01],\n",
       "       [2.46456340e-01, 7.53543675e-01],\n",
       "       [9.98787820e-01, 1.21224148e-03],\n",
       "       [8.89195859e-01, 1.10804141e-01],\n",
       "       [8.09111834e-01, 1.90888122e-01],\n",
       "       [7.65623987e-01, 2.34376013e-01],\n",
       "       [9.97026384e-01, 2.97357864e-03],\n",
       "       [5.84868528e-02, 9.41513121e-01],\n",
       "       [9.62770104e-01, 3.72299626e-02],\n",
       "       [9.33517337e-01, 6.64826632e-02],\n",
       "       [7.92567730e-01, 2.07432315e-01],\n",
       "       [9.70998645e-01, 2.90013272e-02],\n",
       "       [3.21031451e-01, 6.78968608e-01],\n",
       "       [9.98428881e-01, 1.57113024e-03],\n",
       "       [8.09509218e-01, 1.90490812e-01],\n",
       "       [9.98387218e-01, 1.61277340e-03],\n",
       "       [6.14559948e-01, 3.85440022e-01],\n",
       "       [2.42429271e-01, 7.57570744e-01],\n",
       "       [9.99994278e-01, 5.72706858e-06],\n",
       "       [6.22644229e-03, 9.93773580e-01],\n",
       "       [9.40652490e-01, 5.93475699e-02],\n",
       "       [2.83261955e-01, 7.16738045e-01],\n",
       "       [9.90043759e-01, 9.95622948e-03],\n",
       "       [9.41193759e-01, 5.88062257e-02],\n",
       "       [7.25739598e-01, 2.74260342e-01],\n",
       "       [9.89941955e-01, 1.00579737e-02],\n",
       "       [4.94977608e-02, 9.50502217e-01],\n",
       "       [9.99999523e-01, 4.37561596e-07],\n",
       "       [9.86394107e-01, 1.36059169e-02],\n",
       "       [9.98186171e-01, 1.81383872e-03],\n",
       "       [3.51697952e-02, 9.64830160e-01],\n",
       "       [6.78473771e-01, 3.21526259e-01],\n",
       "       [7.89835930e-01, 2.10164100e-01],\n",
       "       [9.65154886e-01, 3.48451473e-02],\n",
       "       [9.92845953e-01, 7.15407263e-03],\n",
       "       [4.70959097e-01, 5.29040813e-01],\n",
       "       [8.34172033e-03, 9.91658270e-01],\n",
       "       [4.67150271e-01, 5.32849789e-01],\n",
       "       [9.78522956e-01, 2.14770176e-02],\n",
       "       [9.85708356e-01, 1.42916581e-02],\n",
       "       [2.05492124e-01, 7.94507861e-01],\n",
       "       [9.89444435e-01, 1.05555076e-02],\n",
       "       [4.00784165e-01, 5.99215806e-01],\n",
       "       [9.94022429e-01, 5.97758684e-03],\n",
       "       [9.97633576e-01, 2.36644270e-03],\n",
       "       [9.06901956e-01, 9.30980593e-02],\n",
       "       [1.59746125e-01, 8.40253830e-01],\n",
       "       [9.59047019e-01, 4.09529768e-02],\n",
       "       [7.81162143e-01, 2.18837872e-01],\n",
       "       [9.88505304e-01, 1.14947818e-02],\n",
       "       [4.58314329e-01, 5.41685700e-01]], dtype=float32)"
      ]
     },
     "execution_count": 19,
     "metadata": {},
     "output_type": "execute_result"
    }
   ],
   "source": [
    "y_pred = model.predict(test_set)\n",
    "y_pred"
   ]
  },
  {
   "cell_type": "code",
   "execution_count": 20,
   "id": "355feacb",
   "metadata": {},
   "outputs": [
    {
     "data": {
      "text/plain": [
       "array([0, 0, 1, 1, 0, 1, 0, 0, 0, 0, 0, 0, 0, 1, 1, 1, 0, 0, 1, 0, 1, 0,\n",
       "       0, 1, 1, 0, 0, 0, 1, 0, 0, 0, 0, 1, 0, 0, 0, 1, 1, 0, 1, 1, 1, 1,\n",
       "       0, 0, 0, 0, 0, 1, 1, 0, 1, 0, 0, 1, 1, 0, 0, 0, 0, 0, 0, 0, 0, 0,\n",
       "       0, 0, 0, 1, 0, 0, 0, 1, 0, 1, 0, 0, 0, 0, 0, 1, 0, 0, 1, 0, 0, 0,\n",
       "       0, 0, 1, 0, 0, 0, 0, 1, 0, 0, 0, 0, 1, 0, 1, 0, 1, 0, 0, 0, 0, 1,\n",
       "       0, 0, 0, 1, 0, 0, 0, 0, 1, 1, 1, 0, 0, 1, 0, 1, 0, 0, 0, 1, 0, 0,\n",
       "       0, 1], dtype=int64)"
      ]
     },
     "execution_count": 20,
     "metadata": {},
     "output_type": "execute_result"
    }
   ],
   "source": [
    "y_preds = np.argmax(y_pred, axis=1)\n",
    "y_preds"
   ]
  },
  {
   "cell_type": "code",
   "execution_count": 21,
   "id": "413d2a29",
   "metadata": {},
   "outputs": [],
   "source": [
    "# yoo=y_preds\n",
    "# yoo=np.argmax(model.predict(img_data), axis=1)\n",
    "# if (yoo==1):\n",
    "#     print(\"Uninfected\")\n",
    "# else:\n",
    "#     print(\"Infected\")"
   ]
  },
  {
   "cell_type": "code",
   "execution_count": 22,
   "id": "9f460d00",
   "metadata": {},
   "outputs": [],
   "source": [
    "#now we read the image and predict the outcome of the image given\n",
    "\n",
    "from tensorflow.keras.models import load_model\n",
    "model = load_model(\"model_vgg19.h5\")"
   ]
  },
  {
   "cell_type": "code",
   "execution_count": 43,
   "id": "493d72e9",
   "metadata": {},
   "outputs": [],
   "source": [
    "from tensorflow.keras.preprocessing import image\n",
    "img=image.load_img('DS1/Dataset/Test/Parasite/C39P4thinF_original_IMG_20150622_105803_cell_79.png',target_size=(224,224))"
   ]
  },
  {
   "cell_type": "code",
   "execution_count": 44,
   "id": "6c966fb4",
   "metadata": {},
   "outputs": [
    {
     "data": {
      "text/plain": [
       "array([[[0., 0., 0.],\n",
       "        [0., 0., 0.],\n",
       "        [0., 0., 0.],\n",
       "        ...,\n",
       "        [0., 0., 0.],\n",
       "        [0., 0., 0.],\n",
       "        [0., 0., 0.]],\n",
       "\n",
       "       [[0., 0., 0.],\n",
       "        [0., 0., 0.],\n",
       "        [0., 0., 0.],\n",
       "        ...,\n",
       "        [0., 0., 0.],\n",
       "        [0., 0., 0.],\n",
       "        [0., 0., 0.]],\n",
       "\n",
       "       [[0., 0., 0.],\n",
       "        [0., 0., 0.],\n",
       "        [0., 0., 0.],\n",
       "        ...,\n",
       "        [0., 0., 0.],\n",
       "        [0., 0., 0.],\n",
       "        [0., 0., 0.]],\n",
       "\n",
       "       ...,\n",
       "\n",
       "       [[0., 0., 0.],\n",
       "        [0., 0., 0.],\n",
       "        [0., 0., 0.],\n",
       "        ...,\n",
       "        [0., 0., 0.],\n",
       "        [0., 0., 0.],\n",
       "        [0., 0., 0.]],\n",
       "\n",
       "       [[0., 0., 0.],\n",
       "        [0., 0., 0.],\n",
       "        [0., 0., 0.],\n",
       "        ...,\n",
       "        [0., 0., 0.],\n",
       "        [0., 0., 0.],\n",
       "        [0., 0., 0.]],\n",
       "\n",
       "       [[0., 0., 0.],\n",
       "        [0., 0., 0.],\n",
       "        [0., 0., 0.],\n",
       "        ...,\n",
       "        [0., 0., 0.],\n",
       "        [0., 0., 0.],\n",
       "        [0., 0., 0.]]], dtype=float32)"
      ]
     },
     "execution_count": 44,
     "metadata": {},
     "output_type": "execute_result"
    }
   ],
   "source": [
    "#Now we need to convert the image into an array for the model to be able to read it\n",
    "x = image.img_to_array(img)\n",
    "x"
   ]
  },
  {
   "cell_type": "code",
   "execution_count": 45,
   "id": "cda5ca4b",
   "metadata": {},
   "outputs": [
    {
     "data": {
      "text/plain": [
       "(224, 224, 3)"
      ]
     },
     "execution_count": 45,
     "metadata": {},
     "output_type": "execute_result"
    }
   ],
   "source": [
    "x.shape"
   ]
  },
  {
   "cell_type": "code",
   "execution_count": 46,
   "id": "87de0e68",
   "metadata": {},
   "outputs": [],
   "source": [
    "#We do this step to rescale in the same way we divided our test_datagen and train_datagen by 255\n",
    "x=x/255"
   ]
  },
  {
   "cell_type": "code",
   "execution_count": 47,
   "id": "b6051086",
   "metadata": {},
   "outputs": [
    {
     "data": {
      "text/plain": [
       "(1, 224, 224, 3)"
      ]
     },
     "execution_count": 47,
     "metadata": {},
     "output_type": "execute_result"
    }
   ],
   "source": [
    "#Now we expand the dimensions of this image for it to be of the same shape\n",
    "x = np.expand_dims(x, axis=0)\n",
    "#If in case you run line 2 more than once the shape will change with 1 more dimension every time\n",
    "#To fix this use \"squeeze\" in place of \"expand_dims\" and run and check the final shape of image\n",
    "img_data = preprocess_input(x)\n",
    "img_data.shape"
   ]
  },
  {
   "cell_type": "code",
   "execution_count": 48,
   "id": "463d2bb8",
   "metadata": {},
   "outputs": [
    {
     "data": {
      "text/plain": [
       "array([[2.2119104e-07, 9.9999976e-01]], dtype=float32)"
      ]
     },
     "execution_count": 48,
     "metadata": {},
     "output_type": "execute_result"
    }
   ],
   "source": [
    "model.predict(img_data)"
   ]
  },
  {
   "cell_type": "code",
   "execution_count": 49,
   "id": "de923e43",
   "metadata": {},
   "outputs": [],
   "source": [
    "a=np.argmax(model.predict(img_data), axis=1)"
   ]
  },
  {
   "cell_type": "code",
   "execution_count": 50,
   "id": "e91d0517",
   "metadata": {},
   "outputs": [
    {
     "name": "stdout",
     "output_type": "stream",
     "text": [
      "Uninfected\n"
     ]
    }
   ],
   "source": [
    "if (a==1):\n",
    "    print(\"Uninfected\")\n",
    "else:\n",
    "    print(\"Infected\")"
   ]
  },
  {
   "cell_type": "code",
   "execution_count": null,
   "id": "de7e326d",
   "metadata": {},
   "outputs": [],
   "source": []
  },
  {
   "cell_type": "code",
   "execution_count": null,
   "id": "5eff3596",
   "metadata": {},
   "outputs": [],
   "source": []
  }
 ],
 "metadata": {
  "kernelspec": {
   "display_name": "Python 3",
   "language": "python",
   "name": "python3"
  },
  "language_info": {
   "codemirror_mode": {
    "name": "ipython",
    "version": 3
   },
   "file_extension": ".py",
   "mimetype": "text/x-python",
   "name": "python",
   "nbconvert_exporter": "python",
   "pygments_lexer": "ipython3",
   "version": "3.8.8"
  }
 },
 "nbformat": 4,
 "nbformat_minor": 5
}
